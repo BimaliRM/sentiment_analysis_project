{
 "cells": [
  {
   "cell_type": "code",
   "execution_count": 1,
   "metadata": {},
   "outputs": [],
   "source": [
    "import numpy as np\n",
    "import pandas as pd"
   ]
  },
  {
   "cell_type": "code",
   "execution_count": 2,
   "metadata": {},
   "outputs": [],
   "source": [
    "data = pd.read_csv(\"../artifacts/Food_Reviews.csv\")"
   ]
  },
  {
   "cell_type": "code",
   "execution_count": 3,
   "metadata": {},
   "outputs": [
    {
     "data": {
      "text/html": [
       "<div>\n",
       "<style scoped>\n",
       "    .dataframe tbody tr th:only-of-type {\n",
       "        vertical-align: middle;\n",
       "    }\n",
       "\n",
       "    .dataframe tbody tr th {\n",
       "        vertical-align: top;\n",
       "    }\n",
       "\n",
       "    .dataframe thead th {\n",
       "        text-align: right;\n",
       "    }\n",
       "</style>\n",
       "<table border=\"1\" class=\"dataframe\">\n",
       "  <thead>\n",
       "    <tr style=\"text-align: right;\">\n",
       "      <th></th>\n",
       "      <th>Score</th>\n",
       "      <th>Type</th>\n",
       "      <th>Label</th>\n",
       "      <th>Text</th>\n",
       "      <th>Summary</th>\n",
       "    </tr>\n",
       "  </thead>\n",
       "  <tbody>\n",
       "    <tr>\n",
       "      <th>0</th>\n",
       "      <td>5</td>\n",
       "      <td>good</td>\n",
       "      <td>1</td>\n",
       "      <td>I can't believe I am the first to review this ...</td>\n",
       "      <td>A Great Product!!!</td>\n",
       "    </tr>\n",
       "    <tr>\n",
       "      <th>1</th>\n",
       "      <td>5</td>\n",
       "      <td>good</td>\n",
       "      <td>1</td>\n",
       "      <td>You can find this 6-pack for $40 dollars less ...</td>\n",
       "      <td>BUY ELSEWHERE</td>\n",
       "    </tr>\n",
       "    <tr>\n",
       "      <th>2</th>\n",
       "      <td>5</td>\n",
       "      <td>good</td>\n",
       "      <td>1</td>\n",
       "      <td>Our 9 month old originally was spitting up a l...</td>\n",
       "      <td>Best Organic milk out there..my baby switched ...</td>\n",
       "    </tr>\n",
       "    <tr>\n",
       "      <th>3</th>\n",
       "      <td>5</td>\n",
       "      <td>good</td>\n",
       "      <td>1</td>\n",
       "      <td>When my daughter was an infant, she was allerg...</td>\n",
       "      <td>We are a fan</td>\n",
       "    </tr>\n",
       "    <tr>\n",
       "      <th>4</th>\n",
       "      <td>5</td>\n",
       "      <td>good</td>\n",
       "      <td>1</td>\n",
       "      <td>I love pasta, but it does not love me.  I just...</td>\n",
       "      <td>Absolutely awesome!</td>\n",
       "    </tr>\n",
       "  </tbody>\n",
       "</table>\n",
       "</div>"
      ],
      "text/plain": [
       "   Score  Type  Label                                               Text  \\\n",
       "0      5  good      1  I can't believe I am the first to review this ...   \n",
       "1      5  good      1  You can find this 6-pack for $40 dollars less ...   \n",
       "2      5  good      1  Our 9 month old originally was spitting up a l...   \n",
       "3      5  good      1  When my daughter was an infant, she was allerg...   \n",
       "4      5  good      1  I love pasta, but it does not love me.  I just...   \n",
       "\n",
       "                                             Summary  \n",
       "0                                 A Great Product!!!  \n",
       "1                                      BUY ELSEWHERE  \n",
       "2  Best Organic milk out there..my baby switched ...  \n",
       "3                                       We are a fan  \n",
       "4                                Absolutely awesome!  "
      ]
     },
     "execution_count": 3,
     "metadata": {},
     "output_type": "execute_result"
    }
   ],
   "source": [
    "data.head()"
   ]
  },
  {
   "cell_type": "code",
   "execution_count": null,
   "metadata": {},
   "outputs": [],
   "source": []
  }
 ],
 "metadata": {
  "kernelspec": {
   "display_name": "Python 3 (ipykernel)",
   "language": "python",
   "name": "python3"
  },
  "language_info": {
   "codemirror_mode": {
    "name": "ipython",
    "version": 3
   },
   "file_extension": ".py",
   "mimetype": "text/x-python",
   "name": "python",
   "nbconvert_exporter": "python",
   "pygments_lexer": "ipython3",
   "version": "3.12.1"
  }
 },
 "nbformat": 4,
 "nbformat_minor": 4
}
